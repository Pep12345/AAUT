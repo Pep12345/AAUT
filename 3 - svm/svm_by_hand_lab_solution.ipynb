{
 "cells": [
  {
   "cell_type": "markdown",
   "metadata": {},
   "source": [
    "# Support Vector Machines"
   ]
  },
  {
   "cell_type": "code",
   "execution_count": 1,
   "metadata": {},
   "outputs": [],
   "source": [
    "%matplotlib inline\n",
    "import numpy as np\n",
    "import matplotlib.pyplot as plt\n",
    "from sklearn.svm import SVC\n",
    "import scipy"
   ]
  },
  {
   "cell_type": "code",
   "execution_count": 2,
   "metadata": {},
   "outputs": [],
   "source": [
    "X = np.array([[ 0.46613554,  0.92048757],\n",
    "       [-0.92129195,  0.06723639],\n",
    "       [-0.15836636,  0.00430243],\n",
    "       [-0.24055905, -0.87032292],\n",
    "       [ 0.06245105, -0.53698416],\n",
    "       [-0.2265037 , -0.43835751],\n",
    "       [-0.00480479, -0.17372081],\n",
    "       [-0.1525277 , -0.34399658],\n",
    "       [-0.27360329,  0.35339202],\n",
    "       [-0.77464508, -0.48715511],\n",
    "       [-0.58724291,  0.74419972],\n",
    "       [-0.97596949, -0.72172963],\n",
    "       [ 0.42376225, -0.72655597],\n",
    "       [ 0.96383922, -0.23371331],\n",
    "       [ 0.16264643, -0.46949742],\n",
    "       [-0.74294705, -0.42576417],\n",
    "       [ 0.05089437, -0.20522071],\n",
    "       [-0.19442744,  0.09617478],\n",
    "       [-0.97102743,  0.79663992],\n",
    "       [ 0.0596995 , -0.70129219],\n",
    "       [-0.83934851, -0.95616033],\n",
    "       [-0.38249705,  0.4973605 ],\n",
    "       [ 0.3474666 ,  0.70664397],\n",
    "       [ 0.35871444,  0.88679345],\n",
    "       [-0.05914582,  0.23124686],\n",
    "       [-0.52156643,  0.32986941],\n",
    "       [-0.53579646,  0.67530208],\n",
    "       [ 0.13683914, -0.96158184],\n",
    "       [ 0.65904541, -0.12015303],\n",
    "       [-0.69078363,  0.5615536 ],\n",
    "       [ 0.47738323, -0.70919275],\n",
    "       [ 0.93069669,  0.44019132],\n",
    "       [ 0.19750088, -0.68869404],\n",
    "       [-0.75048675, -0.18170522],\n",
    "       [-0.45288395, -0.25894991],\n",
    "       [-0.74644547,  0.87781953],\n",
    "       [ 0.14620452,  0.56864508],\n",
    "       [ 0.25719272, -0.58405476],\n",
    "       [ 0.87149524,  0.01384224],\n",
    "       [-0.71473576,  0.31568314],\n",
    "       [-0.252637  , -0.67418371],\n",
    "       [ 0.24718308,  0.95191416],\n",
    "       [-0.38149953, -0.64066291],\n",
    "       [-0.23112698,  0.04678807],\n",
    "       [ 0.72631766,  0.7390158 ],\n",
    "       [-0.91748062, -0.15131021],\n",
    "       [ 0.74957917,  0.66966866],\n",
    "       [ 0.76771849,  0.06662777],\n",
    "       [-0.04233756, -0.91320835],\n",
    "       [ 0.63840333,  0.06277738],\n",
    "       [-0.78887281, -0.90311183],\n",
    "       [-0.73099834, -0.69587363],\n",
    "       [-0.50947652, -0.99144951],\n",
    "       [ 0.14294609,  0.5474932 ],\n",
    "       [ 0.4367906 ,  0.31953258],\n",
    "       [-0.13970851,  0.81817884],\n",
    "       [ 0.6440873 ,  0.79118775],\n",
    "       [ 0.41714043, -0.66672029],\n",
    "       [ 0.59283022, -0.71836746],\n",
    "       [ 0.55379696,  0.98846202],\n",
    "       [-0.91819517,  0.34203895],\n",
    "       [ 0.02020188,  0.83696694],\n",
    "       [ 0.6182918 ,  0.04254014],\n",
    "       [-0.09354765, -0.30050483],\n",
    "       [-0.08489545,  0.06431463],\n",
    "       [-0.11886358, -0.68738895],\n",
    "       [ 0.44428375,  0.18273761],\n",
    "       [ 0.26486362, -0.98398013],\n",
    "       [ 0.13222452,  0.91495035],\n",
    "       [-0.11101656,  0.00541343],\n",
    "       [-0.07696178, -0.92720555],\n",
    "       [ 0.22602214,  0.56040092],\n",
    "       [ 0.74227542,  0.32930104],\n",
    "       [ 0.43524657,  0.35332933],\n",
    "       [-0.89277607, -0.59996171],\n",
    "       [-0.94836212,  0.78777302],\n",
    "       [ 0.1783319 , -0.2142071 ],\n",
    "       [-0.07832238, -0.25046584],\n",
    "       [ 0.17611799, -0.96927832],\n",
    "       [-0.95938454, -0.26504646],\n",
    "       [ 0.58666766, -0.94620881],\n",
    "       [-0.77336565,  0.46735057],\n",
    "       [-0.94414054,  0.39044333],\n",
    "       [ 0.61524645,  0.15907662],\n",
    "       [-0.09855302,  0.9816656 ],\n",
    "       [ 0.53937097,  0.34487634]])"
   ]
  },
  {
   "cell_type": "code",
   "execution_count": 3,
   "metadata": {},
   "outputs": [],
   "source": [
    "y = [\"red\" if x + y > 0.3 else \"green\"  for [x,y] in X]\n",
    "y1 = [+1 if x + y > 0.3 else -1  for [x,y] in X]"
   ]
  },
  {
   "cell_type": "code",
   "execution_count": 4,
   "metadata": {},
   "outputs": [
    {
     "data": {
      "text/plain": [
       "<matplotlib.collections.PathCollection at 0x25556029e20>"
      ]
     },
     "execution_count": 4,
     "metadata": {},
     "output_type": "execute_result"
    },
    {
     "data": {
      "image/png": "[encoded data removed]",
      "text/plain": [
       "<Figure size 432x288 with 1 Axes>"
      ]
     },
     "metadata": {
      "needs_background": "light"
     },
     "output_type": "display_data"
    }
   ],
   "source": [
    "plt.scatter(X[:,0], X[:,1], c=y)"
   ]
  },
  {
   "cell_type": "markdown",
   "metadata": {},
   "source": [
    "# SVM by *hand*\n",
    "\n",
    "Let us use scipy.optimize.minimize to learn the SVM solution to the classification problem given above\n",
    "\n",
    "Scipy has a quite powerful optimizer that we can use to quite easily implement the SVM primal optimization problem.\n",
    "\n",
    "We start by noticing that the optimizer does not support non-homogeneous coordinates. We just add a column of 1s to the matrix $X$."
   ]
  },
  {
   "cell_type": "code",
   "execution_count": 5,
   "metadata": {},
   "outputs": [],
   "source": [
    "X = np.column_stack([X, np.ones(shape=[len(X),1])])"
   ]
  },
  {
   "cell_type": "markdown",
   "metadata": {},
   "source": [
    "We then define the objective function we want to minimize..."
   ]
  },
  {
   "cell_type": "code",
   "execution_count": 6,
   "metadata": {},
   "outputs": [],
   "source": [
    "def objfun(x, *args):\n",
    "    pass"
   ]
  },
  {
   "cell_type": "markdown",
   "metadata": {},
   "source": [
    "The most challenging part is to define the constraints for the problem. The scipy optimizer needs them in the form:\n",
    "\n",
    "$\\textit{lb} \\leq \\mathbf{A} \\cdot \\mathbf{x} \\leq \\textit{ub}$\n",
    "\n",
    "where $x$ is the current set of linear parameters we are learning and are provided by the optimizer. We then have to devise a matrix $A$ and upper bounds *lb* and *ub* to model the ones we need for the SVM problem.\n",
    "\n",
    "Note: *lb* and *ub* can be set to $+\\infty$ (using `+np.inf`) or $-\\infty$ (using `-np.inf`) if necessary.\n",
    "\n",
    "Once we have defined $A$, *lb* and *ub*, the linear constraint can be created using:\n",
    "\n",
    "`lc = scipy.optimize.LinearConstraint(A, lb, ub)`\n",
    "\n",
    "Finally, to invoke the optimizer we also need a starting point for the numerical search (0,0,0) would do just fine in this case"
   ]
  },
  {
   "cell_type": "code",
   "execution_count": 7,
   "metadata": {},
   "outputs": [
    {
     "name": "stdout",
     "output_type": "stream",
     "text": [
      "[[ 0.46613554  0.92048757  1.        ]\n",
      " [ 0.92129195 -0.06723639 -1.        ]\n",
      " [ 0.15836636 -0.00430243 -1.        ]\n",
      " [ 0.24055905  0.87032292 -1.        ]\n",
      " [-0.06245105  0.53698416 -1.        ]\n",
      " [ 0.2265037   0.43835751 -1.        ]\n",
      " [ 0.00480479  0.17372081 -1.        ]\n",
      " [ 0.1525277   0.34399658 -1.        ]\n",
      " [ 0.27360329 -0.35339202 -1.        ]\n",
      " [ 0.77464508  0.48715511 -1.        ]\n",
      " [ 0.58724291 -0.74419972 -1.        ]\n",
      " [ 0.97596949  0.72172963 -1.        ]\n",
      " [-0.42376225  0.72655597 -1.        ]\n",
      " [ 0.96383922 -0.23371331  1.        ]\n",
      " [-0.16264643  0.46949742 -1.        ]\n",
      " [ 0.74294705  0.42576417 -1.        ]\n",
      " [-0.05089437  0.20522071 -1.        ]\n",
      " [ 0.19442744 -0.09617478 -1.        ]\n",
      " [ 0.97102743 -0.79663992 -1.        ]\n",
      " [-0.0596995   0.70129219 -1.        ]\n",
      " [ 0.83934851  0.95616033 -1.        ]\n",
      " [ 0.38249705 -0.4973605  -1.        ]\n",
      " [ 0.3474666   0.70664397  1.        ]\n",
      " [ 0.35871444  0.88679345  1.        ]\n",
      " [ 0.05914582 -0.23124686 -1.        ]\n",
      " [ 0.52156643 -0.32986941 -1.        ]\n",
      " [ 0.53579646 -0.67530208 -1.        ]\n",
      " [-0.13683914  0.96158184 -1.        ]\n",
      " [ 0.65904541 -0.12015303  1.        ]\n",
      " [ 0.69078363 -0.5615536  -1.        ]\n",
      " [-0.47738323  0.70919275 -1.        ]\n",
      " [ 0.93069669  0.44019132  1.        ]\n",
      " [-0.19750088  0.68869404 -1.        ]\n",
      " [ 0.75048675  0.18170522 -1.        ]\n",
      " [ 0.45288395  0.25894991 -1.        ]\n",
      " [ 0.74644547 -0.87781953 -1.        ]\n",
      " [ 0.14620452  0.56864508  1.        ]\n",
      " [-0.25719272  0.58405476 -1.        ]\n",
      " [ 0.87149524  0.01384224  1.        ]\n",
      " [ 0.71473576 -0.31568314 -1.        ]\n",
      " [ 0.252637    0.67418371 -1.        ]\n",
      " [ 0.24718308  0.95191416  1.        ]\n",
      " [ 0.38149953  0.64066291 -1.        ]\n",
      " [ 0.23112698 -0.04678807 -1.        ]\n",
      " [ 0.72631766  0.7390158   1.        ]\n",
      " [ 0.91748062  0.15131021 -1.        ]\n",
      " [ 0.74957917  0.66966866  1.        ]\n",
      " [ 0.76771849  0.06662777  1.        ]\n",
      " [ 0.04233756  0.91320835 -1.        ]\n",
      " [ 0.63840333  0.06277738  1.        ]\n",
      " [ 0.78887281  0.90311183 -1.        ]\n",
      " [ 0.73099834  0.69587363 -1.        ]\n",
      " [ 0.50947652  0.99144951 -1.        ]\n",
      " [ 0.14294609  0.5474932   1.        ]\n",
      " [ 0.4367906   0.31953258  1.        ]\n",
      " [-0.13970851  0.81817884  1.        ]\n",
      " [ 0.6440873   0.79118775  1.        ]\n",
      " [-0.41714043  0.66672029 -1.        ]\n",
      " [-0.59283022  0.71836746 -1.        ]\n",
      " [ 0.55379696  0.98846202  1.        ]\n",
      " [ 0.91819517 -0.34203895 -1.        ]\n",
      " [ 0.02020188  0.83696694  1.        ]\n",
      " [ 0.6182918   0.04254014  1.        ]\n",
      " [ 0.09354765  0.30050483 -1.        ]\n",
      " [ 0.08489545 -0.06431463 -1.        ]\n",
      " [ 0.11886358  0.68738895 -1.        ]\n",
      " [ 0.44428375  0.18273761  1.        ]\n",
      " [-0.26486362  0.98398013 -1.        ]\n",
      " [ 0.13222452  0.91495035  1.        ]\n",
      " [ 0.11101656 -0.00541343 -1.        ]\n",
      " [ 0.07696178  0.92720555 -1.        ]\n",
      " [ 0.22602214  0.56040092  1.        ]\n",
      " [ 0.74227542  0.32930104  1.        ]\n",
      " [ 0.43524657  0.35332933  1.        ]\n",
      " [ 0.89277607  0.59996171 -1.        ]\n",
      " [ 0.94836212 -0.78777302 -1.        ]\n",
      " [-0.1783319   0.2142071  -1.        ]\n",
      " [ 0.07832238  0.25046584 -1.        ]\n",
      " [-0.17611799  0.96927832 -1.        ]\n",
      " [ 0.95938454  0.26504646 -1.        ]\n",
      " [-0.58666766  0.94620881 -1.        ]\n",
      " [ 0.77336565 -0.46735057 -1.        ]\n",
      " [ 0.94414054 -0.39044333 -1.        ]\n",
      " [ 0.61524645  0.15907662  1.        ]\n",
      " [-0.09855302  0.9816656   1.        ]\n",
      " [ 0.53937097  0.34487634  1.        ]]\n"
     ]
    }
   ],
   "source": [
    "A = (y1*X.T).T\n",
    "ub = +np.inf\n",
    "lb = 1"
   ]
  },
  {
   "cell_type": "code",
   "execution_count": null,
   "metadata": {},
   "outputs": [],
   "source": [
    "lc = ..."
   ]
  },
  {
   "cell_type": "code",
   "execution_count": null,
   "metadata": {},
   "outputs": [],
   "source": [
    "x0 = ...\n",
    "w =scipy.optimize.minimize(objfun, x0, constraints=[lc])"
   ]
  },
  {
   "cell_type": "markdown",
   "metadata": {},
   "source": [
    "Let us now plot the results. A function can be plotted using matplotlib by creating the $x$ values `xs`, computing the corresponding $y$ values `ys` and using:\n",
    "\n",
    "`plt.plot(xs,ys)`\n",
    "\n",
    "**Note**: An easy way to create the $x$ values is:\n",
    "\n",
    "`xs = np.linspace(a,b)`\n",
    "\n",
    "which would create a sequence of equally spaced real numbers between `a` and `b`."
   ]
  },
  {
   "cell_type": "code",
   "execution_count": null,
   "metadata": {},
   "outputs": [],
   "source": [
    "xs = ...\n",
    "ys = ..."
   ]
  },
  {
   "cell_type": "code",
   "execution_count": null,
   "metadata": {},
   "outputs": [],
   "source": [
    "plt.plot(xs,ys)\n",
    "plt.scatter(X[:,0], X[:,1], c=y)"
   ]
  }
 ],
 "metadata": {
  "anaconda-cloud": {},
  "kernelspec": {
   "display_name": "Python 3",
   "language": "python",
   "name": "python3"
  },
  "language_info": {
   "codemirror_mode": {
    "name": "ipython",
    "version": 3
   },
   "file_extension": ".py",
   "mimetype": "text/x-python",
   "name": "python",
   "nbconvert_exporter": "python",
   "pygments_lexer": "ipython3",
   "version": "3.8.8"
  }
 },
 "nbformat": 4,
 "nbformat_minor": 1
}
